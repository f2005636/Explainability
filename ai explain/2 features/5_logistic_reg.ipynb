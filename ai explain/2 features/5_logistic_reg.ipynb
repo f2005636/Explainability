{
 "cells": [
  {
   "cell_type": "markdown",
   "metadata": {},
   "source": [
    "# 1. import libraries"
   ]
  },
  {
   "cell_type": "code",
   "execution_count": 1,
   "metadata": {},
   "outputs": [],
   "source": [
    "import warnings\n",
    "import numpy as np\n",
    "import pandas as pd\n",
    "from sklearn import tree\n",
    "import matplotlib.pyplot as plt\n",
    "import seaborn as sns"
   ]
  },
  {
   "cell_type": "code",
   "execution_count": 2,
   "metadata": {},
   "outputs": [],
   "source": [
    "import statsmodels.api as sm\n",
    "from sklearn.metrics import roc_auc_score, confusion_matrix"
   ]
  },
  {
   "cell_type": "code",
   "execution_count": 3,
   "metadata": {},
   "outputs": [],
   "source": [
    "warnings.filterwarnings(\"ignore\")\n",
    "%matplotlib inline\n",
    "plt.style.use('seaborn-white')\n",
    "plt.rcParams['figure.figsize'] = 15,5"
   ]
  },
  {
   "cell_type": "markdown",
   "metadata": {},
   "source": [
    "---\n",
    "# 2. import dataset"
   ]
  },
  {
   "cell_type": "code",
   "execution_count": 4,
   "metadata": {},
   "outputs": [
    {
     "data": {
      "text/plain": [
       "(66034, 6)"
      ]
     },
     "execution_count": 4,
     "metadata": {},
     "output_type": "execute_result"
    }
   ],
   "source": [
    "df = pd.read_csv('../0 data/master.csv')\n",
    "df = df.drop_duplicates()\n",
    "df.shape"
   ]
  },
  {
   "cell_type": "markdown",
   "metadata": {},
   "source": [
    "---\n",
    "# 3. Model - 1st iteration"
   ]
  },
  {
   "cell_type": "code",
   "execution_count": 5,
   "metadata": {},
   "outputs": [
    {
     "name": "stdout",
     "output_type": "stream",
     "text": [
      "Optimization terminated successfully.\n",
      "         Current function value: 0.228901\n",
      "         Iterations 7\n",
      "                           Logit Regression Results                           \n",
      "==============================================================================\n",
      "Dep. Variable:                      Y   No. Observations:                66034\n",
      "Model:                          Logit   Df Residuals:                    66029\n",
      "Method:                           MLE   Df Model:                            4\n",
      "Date:                Sat, 02 Jul 2022   Pseudo R-squ.:                  0.2749\n",
      "Time:                        18:45:25   Log-Likelihood:                -15115.\n",
      "converged:                       True   LL-Null:                       -20846.\n",
      "Covariance Type:            nonrobust   LLR p-value:                     0.000\n",
      "==============================================================================\n",
      "                 coef    std err          z      P>|z|      [0.025      0.975]\n",
      "------------------------------------------------------------------------------\n",
      "const          0.0252      0.042      0.606      0.545      -0.056       0.107\n",
      "month          0.5001      0.017     28.735      0.000       0.466       0.534\n",
      "payment        1.7083      0.027     63.190      0.000       1.655       1.761\n",
      "acctype        0.2713      0.035      7.717      0.000       0.202       0.340\n",
      "score_bin      0.2914      0.008     34.578      0.000       0.275       0.308\n",
      "==============================================================================\n"
     ]
    }
   ],
   "source": [
    "y = df['Y']\n",
    "x = df.drop(['id','Y'], axis=1)\n",
    "x = sm.add_constant(x)\n",
    "log_reg = sm.Logit(y, x).fit()\n",
    "print(log_reg.summary())"
   ]
  },
  {
   "cell_type": "markdown",
   "metadata": {},
   "source": [
    "---\n",
    "# 4. Model - 2nd iteration"
   ]
  },
  {
   "cell_type": "code",
   "execution_count": 6,
   "metadata": {},
   "outputs": [
    {
     "name": "stdout",
     "output_type": "stream",
     "text": [
      "Optimization terminated successfully.\n",
      "         Current function value: 0.228904\n",
      "         Iterations 7\n",
      "                           Logit Regression Results                           \n",
      "==============================================================================\n",
      "Dep. Variable:                      Y   No. Observations:                66034\n",
      "Model:                          Logit   Df Residuals:                    66030\n",
      "Method:                           MLE   Df Model:                            3\n",
      "Date:                Sat, 02 Jul 2022   Pseudo R-squ.:                  0.2749\n",
      "Time:                        18:45:25   Log-Likelihood:                -15115.\n",
      "converged:                       True   LL-Null:                       -20846.\n",
      "Covariance Type:            nonrobust   LLR p-value:                     0.000\n",
      "==============================================================================\n",
      "                 coef    std err          z      P>|z|      [0.025      0.975]\n",
      "------------------------------------------------------------------------------\n",
      "month          0.4977      0.017     29.373      0.000       0.464       0.531\n",
      "payment        1.7012      0.024     70.020      0.000       1.654       1.749\n",
      "acctype        0.2552      0.023     11.037      0.000       0.210       0.300\n",
      "score_bin      0.2910      0.008     34.669      0.000       0.275       0.307\n",
      "==============================================================================\n"
     ]
    }
   ],
   "source": [
    "y = df['Y']\n",
    "x = df.drop(['id','Y'], axis=1)\n",
    "log_reg = sm.Logit(y, x).fit()\n",
    "print(log_reg.summary())"
   ]
  },
  {
   "cell_type": "markdown",
   "metadata": {},
   "source": [
    "---\n",
    "# 5. AUROC and Gini"
   ]
  },
  {
   "cell_type": "code",
   "execution_count": 7,
   "metadata": {},
   "outputs": [
    {
     "name": "stdout",
     "output_type": "stream",
     "text": [
      "AUROC: 0.803\n"
     ]
    }
   ],
   "source": [
    "pred_values = log_reg.predict(x)\n",
    "pred_values = pd.DataFrame(pred_values)[0]\n",
    "print('AUROC:',np.round(roc_auc_score(y, pred_values), 3))"
   ]
  },
  {
   "cell_type": "code",
   "execution_count": 8,
   "metadata": {},
   "outputs": [
    {
     "name": "stdout",
     "output_type": "stream",
     "text": [
      "Gini: 0.606\n"
     ]
    }
   ],
   "source": [
    "auroc = roc_auc_score(y, pred_values)\n",
    "gini = 2 * auroc - 1\n",
    "print('Gini:',np.round(gini, 3))"
   ]
  },
  {
   "cell_type": "markdown",
   "metadata": {},
   "source": [
    "---\n",
    "# 6. Confusion Matrix"
   ]
  },
  {
   "cell_type": "code",
   "execution_count": 9,
   "metadata": {},
   "outputs": [],
   "source": [
    "train_dict = {'actuals':y, 'predicted':pred_values}\n",
    "test_calc = pd.DataFrame(train_dict)"
   ]
  },
  {
   "cell_type": "code",
   "execution_count": 10,
   "metadata": {},
   "outputs": [
    {
     "name": "stdout",
     "output_type": "stream",
     "text": [
      "max f:  0.25\n",
      "max a:  0.55\n"
     ]
    },
    {
     "data": {
      "image/png": "[encoded data removed]",
      "text/plain": [
       "<Figure size 1080x360 with 1 Axes>"
      ]
     },
     "metadata": {},
     "output_type": "display_data"
    }
   ],
   "source": [
    "c = [0.05,0.1,0.15,0.2,0.25,0.3,0.35,0.4,0.45,0.5,0.55,0.6,0.65,0.7,0.75,0.8,0.85,0.9,0.95]\n",
    "f = [0.05,0.1,0.15,0.2,0.25,0.3,0.35,0.4,0.45,0.5,0.55,0.6,0.65,0.7,0.75,0.8,0.85,0.9,0.95]\n",
    "a = [0.05,0.1,0.15,0.2,0.25,0.3,0.35,0.4,0.45,0.5,0.55,0.6,0.65,0.7,0.75,0.8,0.85,0.9,0.95]\n",
    "\n",
    "i = 0\n",
    "for j in c:\n",
    "    def flag(x):\n",
    "        if x > j: return 1\n",
    "        else: return 0\n",
    "    test_calc['flag'] = test_calc['predicted'].apply(flag)\n",
    "    df_table = confusion_matrix(test_calc['actuals'],test_calc['flag'])\n",
    "    p = df_table[1,1] / (df_table[1,1] + df_table[0,1])\n",
    "    r = df_table[1,1] / (df_table[1,1] + df_table[1,0])\n",
    "    f[i] = (2 * p * r) / (p + r)\n",
    "    a[i] = (df_table[0,0] + df_table[1,1]) / df_table.sum()\n",
    "    i = i+1\n",
    "\n",
    "df_decision = pd.concat([pd.DataFrame(c),pd.DataFrame(f),pd.DataFrame(a)],axis=1)\n",
    "df_decision.columns = ['c','f','a']\n",
    "f_max = df_decision[df_decision['f']==df_decision['f'].max()].head(1)\n",
    "a_max = df_decision[df_decision['a']==df_decision['a'].max()].head(1)\n",
    "max_f = float(f_max['c'])\n",
    "max_a = float(a_max['c'])\n",
    "\n",
    "df_decision.plot(x='c',y='f',marker=\"o\", color='greenyellow')\n",
    "print (\"max f: \",max_f)\n",
    "print (\"max a: \",max_a)"
   ]
  },
  {
   "cell_type": "markdown",
   "metadata": {},
   "source": [
    "# 7. Accuracy and F1 Score"
   ]
  },
  {
   "cell_type": "code",
   "execution_count": 11,
   "metadata": {},
   "outputs": [
    {
     "name": "stdout",
     "output_type": "stream",
     "text": [
      "[[59179   531]\n",
      " [ 3925  2399]]\n"
     ]
    }
   ],
   "source": [
    "def cut_off (x):\n",
    "    if x > 0.55: return 1\n",
    "    else: return 0\n",
    "test_calc['flag'] = test_calc['predicted'].apply(cut_off)\n",
    "print(confusion_matrix(test_calc['actuals'],test_calc['flag']))"
   ]
  },
  {
   "cell_type": "code",
   "execution_count": 12,
   "metadata": {},
   "outputs": [
    {
     "name": "stdout",
     "output_type": "stream",
     "text": [
      "Accuracy: 0.933\n"
     ]
    }
   ],
   "source": [
    "c = confusion_matrix(test_calc['actuals'],test_calc['flag'])\n",
    "print('Accuracy:',np.round((c[0][0] + c[1][1]) / c.sum(),3))"
   ]
  },
  {
   "cell_type": "code",
   "execution_count": 13,
   "metadata": {},
   "outputs": [
    {
     "name": "stdout",
     "output_type": "stream",
     "text": [
      "F1 Score: 0.518\n"
     ]
    }
   ],
   "source": [
    "p = c[1][1] / (c[1][1] + c[0][1])\n",
    "r = c[1][1] / (c[1][1] + c[1][0])\n",
    "print('F1 Score:',np.round((2 * p * r) / (p + r),3))"
   ]
  }
 ],
 "metadata": {
  "kernelspec": {
   "display_name": "Python 3",
   "language": "python",
   "name": "python3"
  },
  "language_info": {
   "codemirror_mode": {
    "name": "ipython",
    "version": 3
   },
   "file_extension": ".py",
   "mimetype": "text/x-python",
   "name": "python",
   "nbconvert_exporter": "python",
   "pygments_lexer": "ipython3",
   "version": "3.7.6"
  }
 },
 "nbformat": 4,
 "nbformat_minor": 2
}
