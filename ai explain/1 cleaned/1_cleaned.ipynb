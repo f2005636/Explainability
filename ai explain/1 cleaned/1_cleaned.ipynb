{
 "cells": [
  {
   "cell_type": "markdown",
   "metadata": {},
   "source": [
    "# 1. import libraries"
   ]
  },
  {
   "cell_type": "code",
   "execution_count": 1,
   "metadata": {},
   "outputs": [],
   "source": [
    "import warnings\n",
    "import numpy as np\n",
    "import pandas as pd\n",
    "import matplotlib.pyplot as plt\n",
    "import seaborn as sns"
   ]
  },
  {
   "cell_type": "code",
   "execution_count": 2,
   "metadata": {},
   "outputs": [],
   "source": [
    "warnings.filterwarnings(\"ignore\")\n",
    "plt.style.use('seaborn-white')\n",
    "plt.rcParams['figure.figsize'] = 15,5\n",
    "%matplotlib inline"
   ]
  },
  {
   "cell_type": "markdown",
   "metadata": {},
   "source": [
    "---\n",
    "# 2. import dataset"
   ]
  },
  {
   "cell_type": "code",
   "execution_count": 3,
   "metadata": {},
   "outputs": [
    {
     "data": {
      "text/plain": [
       "(198996, 57)"
      ]
     },
     "execution_count": 3,
     "metadata": {},
     "output_type": "execute_result"
    }
   ],
   "source": [
    "df1 = pd.read_excel('../0 data/Ex_Analysis20.xlsx')\n",
    "df2 = pd.read_excel('../0 data/Ex_Analysis22.xlsx')\n",
    "df = pd.concat([df1,df2])\n",
    "df.shape"
   ]
  },
  {
   "cell_type": "markdown",
   "metadata": {},
   "source": [
    "---\n",
    "# 3. independent variables"
   ]
  },
  {
   "cell_type": "code",
   "execution_count": 4,
   "metadata": {},
   "outputs": [],
   "source": [
    "df['id'] = df['tudatafinal.account_identifier']\n",
    "df['year'] = pd.DatetimeIndex(df['tudatafinal.effectivedate']).year\n",
    "df['month'] = pd.DatetimeIndex(df['tudatafinal.effectivedate']).month\n",
    "df['date'] = df['year'].astype(str)+\"-\"+df['month'].astype(str)\n",
    "df['amount'] = df[['tudatafinal.current_balance_amount', 'tudatafinal.high_credit_amount', 'tudatafinal.credit_limit_amount']].max(axis=1)\n",
    "df['duration'] = df['tudatafinal.terms_payment_schedule_month_count']\n",
    "df['payment'] = df['tudatafinal.manner_of_payment']\n",
    "df['score'] = df['tudatafinal.finscore']\n",
    "df['acctype'] = df['tudatafinal.accounttypecat']\n",
    "df['paytype'] = df['tudatafinal.paymenttypecode']"
   ]
  },
  {
   "cell_type": "code",
   "execution_count": 5,
   "metadata": {},
   "outputs": [
    {
     "data": {
      "text/plain": [
       "(175698, 10)"
      ]
     },
     "execution_count": 5,
     "metadata": {},
     "output_type": "execute_result"
    }
   ],
   "source": [
    "df = df[df['tudatafinal.terms_frequency_of_payment']=='M']\n",
    "df['Y'] = df['tudatafinal.pp_1_10_default']  + df['tudatafinal.pp_11_20_default'] + df['tudatafinal.pp_21_30_default'] + \\\n",
    "          df['tudatafinal.pp_31_40_default'] + df['tudatafinal.pp_41_50_default'] + df['tudatafinal.pp_51_60_default'] + \\\n",
    "          df['tudatafinal.pp_61_70_default'] + df['tudatafinal.pp_71_82_default']\n",
    "df['Y'] = np.where(df['Y']==0, 0, 1)\n",
    "df = df[['id', 'year', 'month', 'amount', 'duration', 'payment', 'score', 'acctype', 'paytype', 'Y']]\n",
    "df.shape"
   ]
  },
  {
   "cell_type": "markdown",
   "metadata": {},
   "source": [
    "---\n",
    "# 4. dependent variable"
   ]
  },
  {
   "cell_type": "code",
   "execution_count": 6,
   "metadata": {
    "scrolled": true
   },
   "outputs": [
    {
     "data": {
      "image/png": "[encoded data removed]",
      "text/plain": [
       "<Figure size 432x288 with 1 Axes>"
      ]
     },
     "metadata": {
      "needs_background": "light"
     },
     "output_type": "display_data"
    }
   ],
   "source": [
    "df = df[(df['duration']>=12) & (df['duration']<=120)]\n",
    "df = df[(df['amount']>=1000) & (df['amount']<=100000)]\n",
    "sns.countplot(df['Y'], color='greenyellow');"
   ]
  },
  {
   "cell_type": "markdown",
   "metadata": {},
   "source": [
    "---\n",
    "# 5. export dataset"
   ]
  },
  {
   "cell_type": "code",
   "execution_count": 7,
   "metadata": {
    "scrolled": true
   },
   "outputs": [
    {
     "data": {
      "text/plain": [
       "(68294, 10)"
      ]
     },
     "execution_count": 7,
     "metadata": {},
     "output_type": "execute_result"
    }
   ],
   "source": [
    "df.to_csv('../0 data/clean.csv', index=False)\n",
    "df.shape"
   ]
  }
 ],
 "metadata": {
  "kernelspec": {
   "display_name": "Python 3",
   "language": "python",
   "name": "python3"
  },
  "language_info": {
   "codemirror_mode": {
    "name": "ipython",
    "version": 3
   },
   "file_extension": ".py",
   "mimetype": "text/x-python",
   "name": "python",
   "nbconvert_exporter": "python",
   "pygments_lexer": "ipython3",
   "version": "3.7.6"
  }
 },
 "nbformat": 4,
 "nbformat_minor": 2
}
